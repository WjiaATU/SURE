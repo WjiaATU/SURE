{
 "cells": [
  {
   "cell_type": "markdown",
   "metadata": {},
   "source": [
    "## Assignment 1 -- More Python Exercises"
   ]
  },
  {
   "cell_type": "markdown",
   "metadata": {},
   "source": [
    "### Exercise 1. Data Type\n",
    "It is important that we know the type of the values stored in a variable so that we can use the correct operators. Python automatically infers the type from the value you assign to the variable. Write down the type of the values stored in each of the variables below. FYI, Python has different data types built-in by default. Here, we focus on the following types only:\n",
    "\n",
    "* Text Type: str\n",
    "\n",
    "* Numeric Types: int, float\n",
    "\n",
    "* Boolean Type: bool\n",
    "\n",
    "\n",
    "Pay special attention to punctuation: values are not always the type they seem!\n",
    "\n",
    "1. a = True\n",
    "\n",
    "2. b = 9.769\n",
    "\n",
    "3. c = 'Bob'\n",
    "\n",
    "4. d = 7\n",
    "\n",
    "5. e = 'True'\n",
    "\n",
    "6. f = 25\n",
    "\n",
    "7. g = '25'\n",
    "\n",
    "8. h = int('25')\n",
    "\n",
    "9. i = str(3.1415926)\n"
   ]
  },
  {
   "cell_type": "markdown",
   "metadata": {},
   "source": [
    "Solution:\r\n",
    "1. bool\r\n",
    "2. float\r\n",
    "3. str\r\n",
    "4. int\r\n",
    "5. str\r\n",
    "6. int\r\n",
    "7. str\r\n",
    "8. int\r\n",
    "9. str\r\n"
   ]
  },
  {
   "cell_type": "markdown",
   "metadata": {},
   "source": [
    "To varify your answers, you can use the interactive Python shell, but first try to do the exercise above without help. For example, for k=19, "
   ]
  },
  {
   "cell_type": "code",
   "execution_count": 17,
   "metadata": {},
   "outputs": [
    {
     "data": {
      "text/plain": [
       "int"
      ]
     },
     "execution_count": 17,
     "metadata": {},
     "output_type": "execute_result"
    }
   ],
   "source": [
    "k = 19\n",
    "type(k)"
   ]
  },
  {
   "cell_type": "markdown",
   "metadata": {},
   "source": [
    "### Exercise 2. Boolean operators\n",
    "\n",
    "Boolean operators can seem tricky at first, and it takes practice to evaluate them correctly. Write the value (True or False) produced by each expression below, using the assigned values of the variables a, b, and c. Try to do this without using your interpreter, but you should check yourself when you think you've got it. \n",
    "\n",
    "Hint: Work from the inside out, starting with the inner-most expressions, like in arithmetic. \n",
    "\n",
    "Let\n",
    "\n",
    "* a = False\n",
    "\n",
    "* b = True\n",
    "\n",
    "* c = False\n",
    "\n",
    "1. b and c\n",
    "\n",
    "2. b or c\n",
    "\n",
    "3. (not a) and b\n",
    "\n",
    "4. (not b) and not (a or c)\n",
    "\n",
    "\n",
    "\n",
    "\n"
   ]
  },
  {
   "cell_type": "markdown",
   "metadata": {},
   "source": [
    "To varify your answers, you can use the interactive Python shell, but first try to do the exercise above without help. For example,"
   ]
  },
  {
   "cell_type": "markdown",
   "metadata": {},
   "source": [
    "Solution:\r\n",
    "1. False\r\n",
    "2. True\r\n",
    "3. True\r\n",
    "4. False"
   ]
  },
  {
   "cell_type": "code",
   "execution_count": 18,
   "metadata": {},
   "outputs": [
    {
     "data": {
      "text/plain": [
       "False"
      ]
     },
     "execution_count": 18,
     "metadata": {},
     "output_type": "execute_result"
    }
   ],
   "source": [
    "a = False\n",
    "b = True\n",
    "c = False\n",
    "\n",
    "(not a) and c"
   ]
  },
  {
   "cell_type": "markdown",
   "metadata": {},
   "source": [
    "### Exercise 3. Numbers and Arithmatic\n",
    "\n",
    "A natural thing to want to do with numbers is perform arithmatic. Python has the basic operators as follows:\n",
    "\n",
    "Let a = 9.769, b = 3.7, c = -9. Find the following.\n",
    "\n",
    "* a + b\n",
    "\n",
    "* a - b\n",
    "\n",
    "* a * b\n",
    "\n",
    "* a / b\n",
    "\n",
    "* a // b\n",
    "-- That is, a divided by b, then we round down the solution. \n",
    "* abs(c)\n",
    "-- absolute value of c\n",
    "* min(a, b)\n",
    "* max(a, b)\n",
    "* round(a, 1)\n",
    "-- round the number to 1 decimal places.\n",
    "\n",
    "\n"
   ]
  },
  {
   "cell_type": "markdown",
   "metadata": {},
   "source": [
    "Solution:\r\n",
    "1. 13.469\r\n",
    "2. 6.069\r\n",
    "3. 36.1453\r\n",
    "4. 2.6402727027\r\n",
    "5. 2.0\r\n",
    "6. 9\r\n",
    "7. 3.7\r\n",
    "8. 9.769\r\n",
    "9. 9.8"
   ]
  },
  {
   "cell_type": "markdown",
   "metadata": {},
   "source": [
    "### Exercise 4. Define Functions\n",
    "\n",
    "#### 4.1 The defined function smallest_abs\n",
    "\n",
    "Builtin functions are great, but we can only get so far with them before we need to start defining our own functions. Below is a simple example. Please describe what the defined function below could do.\n"
   ]
  },
  {
   "cell_type": "code",
   "execution_count": 19,
   "metadata": {},
   "outputs": [],
   "source": [
    "def smallest_abs(x, y):\n",
    "    z = min(abs(x), abs(y))\n",
    "    return z"
   ]
  },
  {
   "cell_type": "markdown",
   "metadata": {},
   "source": [
    "Write down the values of the following examples. Then use interactive Python shell to verify your answer.\n",
    "\n",
    "* smallest_abs(-1, 9)\n",
    "\n",
    "* smallest_abs(-23.5, 17.9)\n"
   ]
  },
  {
   "cell_type": "markdown",
   "metadata": {},
   "source": [
    "Solution:\r\n",
    "1. 1\r\n",
    "2. 17.9"
   ]
  },
  {
   "cell_type": "markdown",
   "metadata": {},
   "source": [
    "#### 4.2 Define the function least_difference\n",
    "\n",
    "Now, try to create a function called least_difference, which takes three arguments, a, b, c. That is, this function will find the absolute values of a-b, b-c, and a-c, the smallest absolute value will be returned. \n",
    "\n",
    "First, Please define the function.\n",
    "\n",
    "Then evaluate the following examples.\n",
    "\n",
    "* least_difference(1, 10, 100)\n",
    "\n",
    "* least_difference(1, 10, 10)\n",
    "\n",
    "* least_difference(5, 6, 7)"
   ]
  },
  {
   "cell_type": "markdown",
   "metadata": {},
   "source": [
    "Solution: Function is defined as follows\r\n",
    "def least_difference(a, b, c):\r\n",
    "    return min(abs(a-b), abs(b-c), abs(a-c))\r\n",
    "\r\n",
    "1. 9\r\n",
    "2. 0\r\n",
    "3. 1"
   ]
  },
  {
   "cell_type": "markdown",
   "metadata": {},
   "source": [
    "### Exerise 5. Conditions\n",
    "\n",
    "#### 5.1 Dream Job Conditionals\n",
    "The purpose of this exercise is to understand conditionals. Tiberius is looking for his dream job, but has some restrictions. He loves California and would like to take a job there if it paid over 40,000 a year. He hates Massachusetts and demands at least 100,000 to work there. Any other place he's content to work for 60,000 a year, unless he can work in space in which case he would work for free. The following code shows his basic strategy for evaluating a job offer. "
   ]
  },
  {
   "cell_type": "code",
   "execution_count": 20,
   "metadata": {},
   "outputs": [
    {
     "name": "stdout",
     "output_type": "stream",
     "text": [
      "No way\n"
     ]
    }
   ],
   "source": [
    "# In this example, the location is given as Massachusetts, the pay offered is 50000;\n",
    "location =  \"Massachusetts\"\n",
    "pay = 50000\n",
    "\n",
    "\n",
    "if location == \"U.S.S. Enterprise\":\n",
    "    print(\"So long, suckers! I’ll take it!\")\n",
    "elif location == \"Massachusetts\":\n",
    "    if pay < 100000:\n",
    "        print(\"No way\")\n",
    "    else:\n",
    "        print(\"I’ll take it!\")\n",
    "elif location == \"California\" and pay > 40000:\n",
    "    print(\"I’ll take it!\")\n",
    "elif pay > 60000:\n",
    "    print(\"I’ll take it!\")\n",
    "else:\n",
    "    print(\"No thanks, I can find something better.\")"
   ]
  },
  {
   "cell_type": "markdown",
   "metadata": {},
   "source": [
    "For each of the following job offers, write down the output that would be generated. Do this without running the code. It is an important skill to understand what a piece of code does without running it. \n",
    "\n",
    "1.  location = \"Iowa\"\n",
    "\n",
    "    pay = 50000\n",
    "\n",
    "2.  location = \"California\"\n",
    "\n",
    "    pay = 50000    \n",
    "\n",
    "3.  location = \"U.S.S. Enterprise\"\n",
    "\n",
    "    pay = 1\n",
    "\n",
    "4.  location = \"Arkansas\"\n",
    "\n",
    "    pay = 50000\n",
    "    \n",
    "\n",
    "\n"
   ]
  },
  {
   "cell_type": "markdown",
   "metadata": {},
   "source": [
    "Solution:\r\n",
    "1. “No thanks, I can find something better.”\r\n",
    "2.\t“I’ll take it!”\r\n",
    "3.\t“So long, suckers! I’ll take it!”\r\n",
    "4.\t“No thanks, I can find something better.”\r\n"
   ]
  },
  {
   "cell_type": "markdown",
   "metadata": {},
   "source": [
    "#### 5.2 Conditional Statements to inspect numbers\n",
    "\n",
    "Complete defining the function named Inspect, which takes one argument x. \n",
    "Hint:\n",
    "\n",
    "def Inspect(x):\n",
    "\n",
    "    if x == 0:\n",
    "\n",
    "        print(x, \"is zero\")\n",
    "        \n",
    "    ...\n",
    "\n",
    "\n",
    "The function Inspect should print out\n",
    "\n",
    "* \"0 is zero\" if the argument x is 0;\n",
    "* \"15 is positive\" if the argument x is 15;\n",
    "* \"-29 is negative\" if the argument x is -29;\n",
    "* \"Hello is unlike anything I've ever seen...\" if the argument x is \"Hello\". \n",
    "\n",
    "Evaluate the function on the following examples.\n",
    "\n",
    "1. Inspect(1)\n",
    "\n",
    "2. Inspect('a')\n",
    "\n",
    "3. Inspect(-97)"
   ]
  },
  {
   "cell_type": "markdown",
   "metadata": {},
   "source": [
    "Solution:\r\n",
    "Fundtion is defined as follows.\r\n",
    "\r\n",
    "def Inspect(x):\r\n",
    "    if x == str(x):\r\n",
    "        print(x, \"is unlike anything I've ever seen...\")\r\n",
    "    elif x == 0:    \r\n",
    "        print(x, \"is zero\")\r\n",
    "    elif x > 0:\r\n",
    "        print(x, \"is postive\")\r\n",
    "    elif x < 0:\r\n",
    "        print(x, \"is negative\")\r\n",
    "\r\n",
    "\r\n",
    "1. 1 is positive\r\n",
    "2. a is unlike anything I've ever seen...\r\n",
    "3. -97 is negative"
   ]
  },
  {
   "cell_type": "markdown",
   "metadata": {},
   "source": [
    "### Exercise 6. Understanding loops\n",
    "\n",
    "For each of the following fragments of code, write what the output would be. Again, do this without running the code (although feel free to check yourself when you're done)."
   ]
  },
  {
   "cell_type": "code",
   "execution_count": 21,
   "metadata": {},
   "outputs": [
    {
     "name": "stdout",
     "output_type": "stream",
     "text": [
      "10\n",
      "9\n",
      "8\n",
      "7\n",
      "6\n",
      "5\n",
      "4\n"
     ]
    }
   ],
   "source": [
    "num = 10\n",
    "while num>3:\n",
    "    print(num)\n",
    "    num = num -1"
   ]
  },
  {
   "cell_type": "code",
   "execution_count": 22,
   "metadata": {},
   "outputs": [
    {
     "name": "stdout",
     "output_type": "stream",
     "text": [
      "0.0\n",
      "1.0\n",
      "2.0\n",
      "3.0\n",
      "4.0\n"
     ]
    }
   ],
   "source": [
    "divisor = 2\n",
    "for i in range(0, 10, 2):\n",
    "    print(i/divisor)"
   ]
  },
  {
   "cell_type": "code",
   "execution_count": 23,
   "metadata": {},
   "outputs": [
    {
     "name": "stdout",
     "output_type": "stream",
     "text": [
      "10\n",
      "9\n",
      "8\n",
      "7\n"
     ]
    }
   ],
   "source": [
    "num = 10\n",
    "while True:\n",
    "    if num < 7:\n",
    "        break\n",
    "    print(num)\n",
    "    num -=1"
   ]
  },
  {
   "cell_type": "code",
   "execution_count": 24,
   "metadata": {},
   "outputs": [
    {
     "name": "stdout",
     "output_type": "stream",
     "text": [
      "Letter # 0 is S\n",
      "Letter # 1 is n\n",
      "Letter # 2 is o\n",
      "Letter # 3 is w\n",
      "Letter # 4 is !\n"
     ]
    }
   ],
   "source": [
    "count = 0\n",
    "for letter in 'Snow!':\n",
    "    print('Letter #', count, 'is', letter)\n",
    "    count +=1"
   ]
  }
 ],
 "metadata": {
  "interpreter": {
   "hash": "2c0401c1dc398ee73f03e595e669f026a0c6e013d58009def37dd9d643997cb8"
  },
  "kernelspec": {
   "display_name": "Python 3.7.4 64-bit ('base': conda)",
   "name": "python3"
  },
  "language_info": {
   "name": "python",
   "version": ""
  }
 },
 "nbformat": 4,
 "nbformat_minor": 4
}
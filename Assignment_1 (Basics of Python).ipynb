{
 "metadata": {
  "language_info": {
   "codemirror_mode": {
    "name": "ipython",
    "version": 3
   },
   "file_extension": ".py",
   "mimetype": "text/x-python",
   "name": "python",
   "nbconvert_exporter": "python",
   "pygments_lexer": "ipython3",
   "version": "3.7.4"
  },
  "orig_nbformat": 2,
  "kernelspec": {
   "name": "python374jvsc74a57bd02c0401c1dc398ee73f03e595e669f026a0c6e013d58009def37dd9d643997cb8",
   "display_name": "Python 3.7.4 64-bit ('base': conda)"
  }
 },
 "nbformat": 4,
 "nbformat_minor": 2,
 "cells": [
  {
   "source": [
    "### Exercise 1. Data Type\n",
    "It is important that we know the type of the values stored in a variable so that we can use the correct operators. Python automatically infers the type from the value you assign to the variable. Write down the type of the values stored in each of the variables below. FYI, Python has the different data types built-in by default. Here we focus on the following types only:\n",
    "\n",
    "* Text Type: str\n",
    "\n",
    "* Numeric Types: int, float\n",
    "\n",
    "* Boolean Type: bool\n",
    "\n",
    "\n",
    "Pay special attention to punctuation: values are not always the type they seem!\n",
    "\n",
    "1. a = True\n",
    "\n",
    "2. b = 9.769\n",
    "\n",
    "3. c = 'Bob'\n",
    "\n",
    "4. d = 7\n",
    "\n",
    "5. e = 'True'\n",
    "\n",
    "6. f = 25\n",
    "\n",
    "7. g = '25'\n",
    "\n",
    "8. h = int('25')\n",
    "\n",
    "9. i = str(3.1415926)\n"
   ],
   "cell_type": "markdown",
   "metadata": {}
  },
  {
   "source": [
    "To varify your answers, you can use the interactive Python shell, but first try to do the exercise above without help. For example, for f=25"
   ],
   "cell_type": "markdown",
   "metadata": {}
  },
  {
   "cell_type": "code",
   "execution_count": 7,
   "metadata": {},
   "outputs": [
    {
     "output_type": "execute_result",
     "data": {
      "text/plain": [
       "int"
      ]
     },
     "metadata": {},
     "execution_count": 7
    }
   ],
   "source": [
    "j = 19\n",
    "type(f)"
   ]
  },
  {
   "source": [
    "This is just a paragraph"
   ],
   "cell_type": "markdown",
   "metadata": {}
  }
 ]
}
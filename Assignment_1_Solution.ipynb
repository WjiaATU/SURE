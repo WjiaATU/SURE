{
 "metadata": {
  "language_info": {
   "codemirror_mode": {
    "name": "ipython",
    "version": 3
   },
   "file_extension": ".py",
   "mimetype": "text/x-python",
   "name": "python",
   "nbconvert_exporter": "python",
   "pygments_lexer": "ipython3",
   "version": "3.7.4"
  },
  "orig_nbformat": 2,
  "kernelspec": {
   "name": "python374jvsc74a57bd02c0401c1dc398ee73f03e595e669f026a0c6e013d58009def37dd9d643997cb8",
   "display_name": "Python 3.7.4 64-bit ('base': conda)"
  }
 },
 "nbformat": 4,
 "nbformat_minor": 2,
 "cells": [
  {
   "source": [
    "## 1. Run and print the following scenarios’ results in Python programming. You can use Python editor from python.org or Colab Research.\n",
    "\n",
    "a) a = 5, b = 9, c = a + b, d = b (mod 4), e = b^4, f = c*a, c = c + 12\n",
    "\n",
    "b) x1 = False, x2 = False, x1 OR x2, x1 AND x2\n",
    "\n",
    "c) hello = “Russellville”, please print the last 4 characters. \n"
   ],
   "cell_type": "markdown",
   "metadata": {}
  },
  {
   "cell_type": "code",
   "execution_count": 1,
   "metadata": {},
   "outputs": [
    {
     "output_type": "stream",
     "name": "stdout",
     "text": [
      "14\n1\n6561\n70\n26\nFalse\nFalse\nille\n"
     ]
    }
   ],
   "source": [
    "# a)\n",
    "a = 5\n",
    "b = 9\n",
    "c = a + b\n",
    "print(c)\n",
    "\n",
    "d = b % 4\n",
    "print(d)\n",
    "\n",
    "e = b**4\n",
    "print(e)\n",
    "\n",
    "f = c * a\n",
    "print(f)\n",
    "\n",
    "c = c + 12\n",
    "print(c)\n",
    "\n",
    "# b)\n",
    "x1 = False\n",
    "x2 = False\n",
    "print(x1 or x2)\n",
    "print(x1 and x2)\n",
    "\n",
    "# c)\n",
    "hello = \"Russellville\"\n",
    "print(hello[-4:])\n"
   ]
  },
  {
   "source": [
    "## 2. Define an array for these numbers: 4, 2, 8, 81, 35, 47\n",
    "\n",
    "a) Print the third element.\n",
    "\n",
    "b) Print the first three elements.\n",
    "\n",
    "c) Sort the elements in descending order and print them.\n",
    "\n",
    "d) Print the sum of the elements. \n"
   ],
   "cell_type": "markdown",
   "metadata": {}
  },
  {
   "cell_type": "code",
   "execution_count": 2,
   "metadata": {},
   "outputs": [
    {
     "output_type": "stream",
     "name": "stdout",
     "text": [
      "8\n",
      "[4, 2, 8]\n",
      "8\n",
      "[81 47 35  8  4  2]\n"
     ]
    },
    {
     "output_type": "execute_result",
     "data": {
      "text/plain": [
       "177"
      ]
     },
     "metadata": {},
     "execution_count": 2
    }
   ],
   "source": [
    "arr = [4, 2, 8, 81, 35, 47]\n",
    "\n",
    "# a)\n",
    "print(arr[2])\n",
    "\n",
    "# b)\n",
    "print(arr[0:3])\n",
    "\n",
    "# c)\n",
    "arr.sort(reverse = True)\n",
    "\n",
    "sum(arr)\n",
    "### Numpy\n",
    "import numpy as np\n",
    "arr = np.array([4, 2, 8, 81, 35, 47])\n",
    "print(arr[2])\n",
    "print(np.sort(arr)[::-1])\n",
    "np.sum(arr)"
   ]
  },
  {
   "source": [
    "## 3. List = [‘Arkansas’, ‘Tech’, ‘University’, ‘is’, ‘in’, ‘Russellville’] is a string array.\n",
    "\n",
    "a) Print the third element of the List.\n",
    "\n",
    "b) Remove ‘in’ from the List and print the rest of the List.\n",
    "\n",
    "c) Add ‘Ozark’ into the list and print the updated List. "
   ],
   "cell_type": "markdown",
   "metadata": {}
  },
  {
   "cell_type": "code",
   "execution_count": 3,
   "metadata": {},
   "outputs": [
    {
     "output_type": "stream",
     "name": "stdout",
     "text": [
      "University\n['Arkansas', 'Tech', 'University', 'is', 'Russellville']\n['Arkansas', 'Tech', 'University', 'is', 'Russellville', 'Ozark']\nConcatenated list using naive method : [1, 4, 5, 6, 5, 3, 5, 7, 2, 5]\nConcatenated list using + : [1, 4, 5, 6, 5, 3, 5, 7, 2, 5]\n"
     ]
    }
   ],
   "source": [
    "lst = ['Arkansas', 'Tech', 'University', 'is', 'in', 'Russellville']\n",
    "\n",
    "# a)\n",
    "print(lst[2])\n",
    "\n",
    "# b)\n",
    "# lst.pop(4)\n",
    "# print(lst)\n",
    "lst.remove(\"in\")\n",
    "print(lst)\n",
    "\n",
    "# c)\n",
    "lst.append(\"Ozark\")\n",
    "print(lst)\n",
    "\n",
    "### If there are two lists, how to concatenate two lists? \n",
    "### Naive Way\n",
    "# Initializing lists\n",
    "test_list1 = [1, 4, 5, 6, 5]\n",
    "test_list2 = [3, 5, 7, 2, 5]\n",
    "  \n",
    "# using naive method to concat\n",
    "for i in test_list2 :\n",
    "    test_list1.append(i)\n",
    "  \n",
    "# Printing concatenated list\n",
    "print (\"Concatenated list using naive method : \" \n",
    "                              + str(test_list1))\n",
    "\n",
    "\n",
    "### concatenation using + operator \n",
    "# Initializing lists\n",
    "test_list3 = [1, 4, 5, 6, 5]\n",
    "test_list4 = [3, 5, 7, 2, 5]\n",
    "  \n",
    "# using + operator to concat\n",
    "test_list3 = test_list3 + test_list4\n",
    "  \n",
    "# Printing concatenated list\n",
    "print (\"Concatenated list using + : \"\n",
    "                   + str(test_list3))\n",
    "\n"
   ]
  }
 ]
}
